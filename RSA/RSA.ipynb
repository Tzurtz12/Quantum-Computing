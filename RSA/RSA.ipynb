{
 "cells": [
  {
   "cell_type": "markdown",
   "metadata": {},
   "source": [
    "### RSA FACTORING"
   ]
  },
  {
   "cell_type": "code",
   "execution_count": 2,
   "metadata": {},
   "outputs": [],
   "source": [
    "import random\n",
    "from sympy import randprime, mod_inverse\n",
    "import numpy as np\n",
    "import pennylane as qml"
   ]
  },
  {
   "cell_type": "code",
   "execution_count": 62,
   "metadata": {},
   "outputs": [
    {
     "name": "stdout",
     "output_type": "stream",
     "text": [
      "Public key:  (93607279, 2561716159)\n",
      "Private key: (313216519, 2561716159)\n"
     ]
    }
   ],
   "source": [
    "\n",
    "def generate_rsa_keys(bit_length):\n",
    "    # Generate two distinct primes p and q\n",
    "    p = randprime(2**(bit_length//2 - 1), 2**(bit_length//2))\n",
    "    q = randprime(2**(bit_length//2 - 1), 2**(bit_length//2))\n",
    "    while p == q:\n",
    "        q = randprime(2**(bit_length//2 - 1), 2**(bit_length//2))\n",
    "\n",
    "    n = p * q\n",
    "\n",
    "    # Compute the totient of n\n",
    "    totient = np.lcm(p - 1, q - 1)\n",
    "    \n",
    "    # Choose an integer e such that e and totient(n) are coprime\n",
    "    e = random.randrange(1, totient)\n",
    "    g = np.gcd(e, totient)\n",
    "    while g != 1:\n",
    "        e = random.randrange(1, totient)\n",
    "        g = np.gcd(e, totient)\n",
    "\n",
    "    # Compute d, the modular multiplicative inverse of e modulo totient(n)\n",
    "    d = mod_inverse(e, totient)\n",
    "\n",
    "    # Return the public and private keys\n",
    "    return (e, n), (d, n)\n",
    "\n",
    "# Generate and print RSA keys\n",
    "public_key, private_key = generate_rsa_keys(32)\n",
    "print(f\"Public key:  {public_key}\")\n",
    "print(f\"Private key: {private_key}\")"
   ]
  },
  {
   "cell_type": "code",
   "execution_count": 36,
   "metadata": {},
   "outputs": [
    {
     "name": "stdout",
     "output_type": "stream",
     "text": [
      "Public key:  (3, 493)\n",
      "Private key: (75, 493)\n"
     ]
    }
   ],
   "source": [
    "#Now, creating a code to get the kwy with known p and q\n",
    "def key(p,q):\n",
    "    n = p * q\n",
    "\n",
    "    totient = np.lcm(p - 1, q - 1) \n",
    "    #e = random.randrange(1, totient) #To choose a random e with higher values\n",
    "    e = 3\n",
    "    g = np.gcd(e, totient)\n",
    "    while g != 1:\n",
    "        e = random.randrange(1, totient)\n",
    "        g = np.gcd(e, totient)\n",
    "\n",
    "    # Compute d, the modular multiplicative inverse of e modulo totient(n)\n",
    "    d = mod_inverse(e, totient)\n",
    "\n",
    "    # Return the public and private keys\n",
    "    return (e, n), (d, n)\n",
    "public_key, private_key = key(17,29)\n",
    "print(f\"Public key:  {public_key}\")\n",
    "print(f\"Private key: {private_key}\")"
   ]
  },
  {
   "cell_type": "code",
   "execution_count": 39,
   "metadata": {},
   "outputs": [
    {
     "name": "stdout",
     "output_type": "stream",
     "text": [
      "ciphertext: 138 mod 493\n",
      "message: 42 mod 493\n"
     ]
    }
   ],
   "source": [
    "public_key, private_key = key(17,29)\n",
    "\n",
    "def rsa_encrypt(m, public_key):\n",
    "    e, n = public_key\n",
    "    return pow(m, e, n)\n",
    "\n",
    "def rsa_decrypt(c, private_key):\n",
    "    d, n = private_key\n",
    "    return pow(c, d, n)\n",
    "c = rsa_encrypt(42, public_key)\n",
    "print(f\"ciphertext: {c}\"+\" mod \"+str(public_key[1]))\n",
    "m = rsa_decrypt(c, private_key)\n",
    "print(f\"message: {m}\"+\" mod \"+str(public_key[1]))"
   ]
  },
  {
   "cell_type": "code",
   "execution_count": 101,
   "metadata": {},
   "outputs": [],
   "source": [
    "def encode_string(s):\n",
    "    ascii_values = [ord(c) for c in s]\n",
    "    length = 8\n",
    "    arrays = [ascii_values[i:i+length] for i in range(0, len(ascii_values), length)]\n",
    "\n",
    "    arrays = [[0]*(length-len(array)) + array for array in arrays]\n",
    "\n",
    "    memory = [int.from_bytes(bytes(array), byteorder='big') for array in arrays]\n",
    "\n",
    "    return memory\n",
    "def back_to_string(memory):\n",
    "    arrays = [list(int.to_bytes(memory_int, length=8, byteorder='big')) for memory_int in memory]\n",
    "\n",
    "    ascii_values = [value for array in arrays for value in array]\n",
    "\n",
    "    s = ''.join(chr(value) for value in ascii_values if value != 0)\n",
    "\n",
    "    return s\n",
    "    "
   ]
  },
  {
   "cell_type": "code",
   "execution_count": 99,
   "metadata": {},
   "outputs": [
    {
     "name": "stdout",
     "output_type": "stream",
     "text": [
      "message: Bocadillo de txoriso mesi mesi\n",
      "ciphertext: [9320167817222607433, 1590112442784330384, 1828388760813898685, 4934609375393949312] mod 9641571661781413469\n",
      "decrypted: [4787154198865734764, 8007510522963720303, 8244247514001007987, 115587995235177]9641571661781413469\n",
      "message: Bocadillo de txoriso mesi mesi\n"
     ]
    }
   ],
   "source": [
    "message = \"Bocadillo de txoriso mesi mesi\"\n",
    "print(f\"message: {message}\")\n",
    "memory = encode_string(message)\n",
    "public_key,private_key = generate_rsa_keys(64)\n",
    "c = [rsa_encrypt(m, public_key) for m in memory]\n",
    "print(f\"ciphertext: {c}\"+ \" mod \"+str(public_key[1]))\n",
    "d = [rsa_decrypt(c, private_key) for c in c]\n",
    "print(f\"decrypted: {d}\"+str(public_key[1]))\n",
    "s = back_to_string(d)\n",
    "print(f\"message: {s}\")"
   ]
  },
  {
   "cell_type": "code",
   "execution_count": 96,
   "metadata": {},
   "outputs": [
    {
     "name": "stdout",
     "output_type": "stream",
     "text": [
      "message: Bocadillo de txoriso mesi mesi\n",
      "ciphertext: [2084230251, 3374156727, 82781025, 3503890611] mod 3760781117\n",
      "decrypted: [3503568325, 2427715829, 377674500, 387604182]3760781117\n",
      "message: ÐÔ5Å´õ\u0016Û\u0004\u0017\u001a^Ö\n"
     ]
    }
   ],
   "source": [
    "message = \"Bocadillo de txoriso mesi mesi\"\n",
    "print(f\"message: {message}\")\n",
    "memory = encode_string(message)\n",
    "public_key,private_key = generate_rsa_keys(32)\n",
    "c = [rsa_encrypt(m, public_key) for m in memory]\n",
    "print(f\"ciphertext: {c}\"+ \" mod \"+str(public_key[1]))\n",
    "d = [rsa_decrypt(c, private_key) for c in c]\n",
    "print(f\"decrypted: {d}\"+str(public_key[1]))\n",
    "s = back_to_string(d)\n",
    "print(f\"message: {s}\")"
   ]
  },
  {
   "cell_type": "markdown",
   "metadata": {},
   "source": [
    "This way we created a proper RSA algorithm. Now, realize how important the value of modulus is. For instance, if the keys we created are too small, the results will not be good. With 64 bits we can create a good enough algorithm, but with 32 the message returned is not the same!"
   ]
  },
  {
   "cell_type": "markdown",
   "metadata": {},
   "source": [
    "### Running time of factoring numbers"
   ]
  },
  {
   "cell_type": "code",
   "execution_count": 8,
   "metadata": {},
   "outputs": [
    {
     "data": {
      "image/png": "[encoded data removed]",
      "text/plain": [
       "<Figure size 640x480 with 1 Axes>"
      ]
     },
     "metadata": {},
     "output_type": "display_data"
    },
    {
     "data": {
      "image/png": "[encoded data removed]",
      "text/plain": [
       "<Figure size 640x480 with 1 Axes>"
      ]
     },
     "metadata": {},
     "output_type": "display_data"
    }
   ],
   "source": [
    "import matplotlib.pyplot as plt\n",
    "import timeit\n",
    "from sympy import factorint\n",
    "\n",
    "# Sizes of numbers to factorize\n",
    "sizes = range(3, 1000000, 2)\n",
    "\n",
    "# Measure the time taken to factorize each number\n",
    "times = []\n",
    "for size in sizes:\n",
    "    # Use timeit to measure the time taken to factorize the number\n",
    "    timer = timeit.Timer(lambda: factorint(size))\n",
    "    time_taken = timer.timeit(number=1)\n",
    "    times.append(time_taken)\n",
    "\n",
    "# Plot the results\n",
    "# plt.plot(np.log2(sizes), times)\n",
    "# plt.plot(sizes, times)\n",
    "plt.scatter(np.log2(sizes), times, s=0.2)\n",
    "plt.xlabel('Size of Number')\n",
    "plt.ylabel('Time to Factorize (seconds)')\n",
    "plt.show()\n",
    "plt.scatter(sizes, times, s=0.2)\n",
    "plt.xlabel('Size of Number')\n",
    "plt.ylabel('Time to Factorize (seconds)')\n",
    "plt.show()"
   ]
  },
  {
   "cell_type": "markdown",
   "metadata": {},
   "source": [
    "As we can see there are some numbers that take some more time. This is due to factorizing the prime numbers takes more time."
   ]
  },
  {
   "cell_type": "markdown",
   "metadata": {},
   "source": [
    "### 4) QFT"
   ]
  },
  {
   "cell_type": "code",
   "execution_count": 14,
   "metadata": {},
   "outputs": [],
   "source": [
    "\n",
    "dev = qml.device(\"default.qubit\", wires=6)\n",
    "\n",
    "@qml.qnode(dev)\n",
    "def decompose_six_qubit_QFT(basis_id):\n",
    "    \"\"\"A circuit that computes the QFT on six qubits using elementary gates.\n",
    "    \n",
    "    Args:\n",
    "        basis_id (int): An integer value identifying the basis state to construct.\n",
    "    \n",
    "    Returns:\n",
    "        array[complex]: The state of the qubits after the QFT operation.\n",
    "    \"\"\"\n",
    "    # Prepare the basis state |basis_id>\n",
    "    bits = [int(x) for x in np.binary_repr(basis_id, width=dev.num_wires)]\n",
    "    qml.BasisStatePreparation(bits, wires=range(6))\n",
    "\n",
    "    for i in range(6):\n",
    "        qml.Hadamard(wires=i)\n",
    "        for j in range(i+1, 6):\n",
    "            qml.ControlledPhaseShift(np.pi / 2**(j-i), wires=[i, j])\n",
    "    \n",
    "    # Reverse the order of the qubits\n",
    "    for i in range(3):\n",
    "        qml.SWAP(wires=[i, 5-i])\n",
    "\n",
    "    return qml.state()"
   ]
  },
  {
   "cell_type": "code",
   "execution_count": 43,
   "metadata": {},
   "outputs": [
    {
     "data": {
      "text/plain": [
       "tensor([ 0.125+0.j, -0.125+0.j,  0.125+0.j, -0.125+0.j,  0.125+0.j,\n",
       "        -0.125+0.j,  0.125+0.j, -0.125+0.j,  0.125+0.j, -0.125+0.j,\n",
       "         0.125+0.j, -0.125+0.j,  0.125+0.j, -0.125+0.j,  0.125+0.j,\n",
       "        -0.125+0.j,  0.125+0.j, -0.125+0.j,  0.125+0.j, -0.125+0.j,\n",
       "         0.125+0.j, -0.125+0.j,  0.125+0.j, -0.125+0.j,  0.125+0.j,\n",
       "        -0.125+0.j,  0.125+0.j, -0.125+0.j,  0.125+0.j, -0.125+0.j,\n",
       "         0.125+0.j, -0.125+0.j,  0.125+0.j, -0.125+0.j,  0.125+0.j,\n",
       "        -0.125+0.j,  0.125+0.j, -0.125+0.j,  0.125+0.j, -0.125+0.j,\n",
       "         0.125+0.j, -0.125+0.j,  0.125+0.j, -0.125+0.j,  0.125+0.j,\n",
       "        -0.125+0.j,  0.125+0.j, -0.125+0.j,  0.125+0.j, -0.125+0.j,\n",
       "         0.125+0.j, -0.125+0.j,  0.125+0.j, -0.125+0.j,  0.125+0.j,\n",
       "        -0.125+0.j,  0.125+0.j, -0.125+0.j,  0.125+0.j, -0.125+0.j,\n",
       "         0.125+0.j, -0.125+0.j,  0.125+0.j, -0.125+0.j], requires_grad=True)"
      ]
     },
     "execution_count": 43,
     "metadata": {},
     "output_type": "execute_result"
    }
   ],
   "source": [
    "wires = 6\n",
    "\n",
    "dev = qml.device('default.qubit',wires=wires)\n",
    "\n",
    "@qml.qnode(dev)\n",
    "def circuit_qft(basis_state):\n",
    "    qml.BasisState(basis_state, wires=range(wires))\n",
    "    qml.QFT(wires=range(wires))\n",
    "    return qml.state()\n",
    "\n",
    "circuit_qft(np.array([1.0, 0.0, 0.0,0.0,0.0,0.0], requires_grad=False))"
   ]
  },
  {
   "cell_type": "code",
   "execution_count": 70,
   "metadata": {},
   "outputs": [
    {
     "name": "stdout",
     "output_type": "stream",
     "text": [
      "[5.00000000e-01 3.22318909e-08 4.16411755e-32 1.19491636e-04\n",
      " 7.65225097e-32 1.93543373e-03 2.42178028e-31 1.60864504e-03\n",
      " 9.36575944e-32 3.84699934e-03 1.80285554e-30 3.03265451e-02\n",
      " 1.41170705e-31 2.14028962e-02 1.06616072e-30 6.22395544e-04\n",
      " 1.85587902e-31 7.57665146e-04 2.93889414e-30 3.89111354e-02\n",
      " 2.70460541e-31 8.44156337e-02 2.55784248e-29 1.71974682e-02\n",
      " 7.29364497e-31 1.25650917e-02 1.88756275e-29 3.08466540e-02\n",
      " 2.09982924e-31 5.43055793e-03 4.22586844e-31 1.33551248e-05\n",
      " 2.86008617e-31 1.33551248e-05 9.22869556e-31 5.43055793e-03\n",
      " 7.59777824e-31 3.08466540e-02 3.75959010e-29 1.25650917e-02\n",
      " 6.49298605e-31 1.71974682e-02 9.11066395e-29 8.44156337e-02\n",
      " 2.63076540e-30 3.89111354e-02 1.61448729e-29 7.57665146e-04\n",
      " 2.89130514e-30 6.22395544e-04 2.44956854e-29 2.14028962e-02\n",
      " 3.69075041e-30 3.03265451e-02 4.64307207e-29 3.84699934e-03\n",
      " 4.82753997e-30 1.60864504e-03 2.60520655e-29 1.93543373e-03\n",
      " 1.92294256e-29 1.19491636e-04 1.10190926e-28 3.22318909e-08]\n"
     ]
    }
   ],
   "source": [
    "n_wires = 12\n",
    "\n",
    "dev = qml.device(\"default.qubit\", wires=n_wires)\n",
    "\n",
    "@qml.qnode(dev)\n",
    "def circuit():\n",
    "    for wire in range(6):\n",
    "        qml.Hadamard(wires=wire)\n",
    "\n",
    "    \n",
    "    for control in range(6):\n",
    "        for target in range(6, 12):\n",
    "            qml.CNOT(wires=[control, target])\n",
    "\n",
    "    qml.adjoint(qml.QFT)(wires=range(6))\n",
    "\n",
    "    return qml.probs(wires=range(6))\n",
    "\n",
    "print(circuit())"
   ]
  },
  {
   "cell_type": "code",
   "execution_count": 3,
   "metadata": {},
   "outputs": [
    {
     "name": "stdout",
     "output_type": "stream",
     "text": [
      "[[1.        +0.j         0.        +0.j        ]\n",
      " [0.        +0.j         0.70710678+0.70710678j]]\n"
     ]
    },
    {
     "data": {
      "text/plain": [
       "array([[ 1.+0.j,  0.+0.j],\n",
       "       [ 0.+0.j, -1.+0.j]])"
      ]
     },
     "execution_count": 3,
     "metadata": {},
     "output_type": "execute_result"
    }
   ],
   "source": [
    "def U_power_2k(unitary, k):\n",
    "    \"\"\" Computes U at a power of 2k (U^2^k)\n",
    "    \n",
    "    Args: \n",
    "        unitary (array[complex]): A unitary matrix\n",
    "    \n",
    "    Returns: \n",
    "        array[complex]: the unitary raised to the power of 2^k\n",
    "    \"\"\"\n",
    "    return np.linalg.matrix_power(unitary,np.power(2,k)) \n",
    "    pass\n",
    "            \n",
    "\n",
    "# Try out a higher power of U\n",
    "U = qml.T.compute_matrix()\n",
    "print(U)\n",
    "\n",
    "U_power_2k(U, 2)"
   ]
  },
  {
   "cell_type": "code",
   "execution_count": 4,
   "metadata": {},
   "outputs": [],
   "source": [
    "estimation_wires = [0, 1, 2]\n",
    "target_wires = [3]\n",
    "\n",
    "def apply_controlled_powers_of_U(unitary):\n",
    "    \"\"\"A quantum function that applies the sequence of powers of U^2^k to\n",
    "    the estimation wires.\n",
    "    \n",
    "    Args: \n",
    "        unitary (array [complex]): A unitary matrix\n",
    "    \"\"\"\n",
    "\n",
    "    for i in range(len(estimation_wires)):\n",
    "\t    qml.ControlledQubitUnitary(U_power_2k(unitary,3 - (i+1)), control_wires=estimation_wires[i],wires=target_wires)\n",
    "    pass"
   ]
  },
  {
   "cell_type": "code",
   "execution_count": 5,
   "metadata": {},
   "outputs": [
    {
     "name": "stdout",
     "output_type": "stream",
     "text": [
      "[1.51544285e-32 1.00000000e+00 1.86828208e-31 9.26372303e-32\n",
      " 9.07320326e-32 9.32150093e-32 1.85684709e-31 3.94430453e-31]\n"
     ]
    }
   ],
   "source": [
    "dev = qml.device(\"default.qubit\", wires=4)\n",
    "\n",
    "estimation_wires = [0, 1, 2]\n",
    "target_wires = [3]\n",
    "\n",
    "def prepare_eigenvector():\n",
    "    qml.PauliX(wires=target_wires)\n",
    "\n",
    "@qml.qnode(dev)\n",
    "def qpe(unitary):\n",
    "    \"\"\" Estimate the phase for a given unitary.\n",
    "    \n",
    "    Args:\n",
    "        unitary (array[complex]): A unitary matrix.\n",
    "        \n",
    "    Returns:\n",
    "        array[float]: Measurement outcome probabilities on the estimation wires.\n",
    "    \"\"\"\n",
    "    prepare_eigenvector()\n",
    "    for wire in estimation_wires:\n",
    "        qml.Hadamard(wires=wire)\n",
    "    apply_controlled_powers_of_U(unitary)\n",
    "    qml.adjoint(qml.QFT)(wires=estimation_wires)\n",
    "\n",
    "    return qml.probs(wires=estimation_wires)\n",
    "    \n",
    "\n",
    "U = qml.T.compute_matrix()\n",
    "print(qpe(U))"
   ]
  }
 ],
 "metadata": {
  "kernelspec": {
   "display_name": "base",
   "language": "python",
   "name": "python3"
  },
  "language_info": {
   "codemirror_mode": {
    "name": "ipython",
    "version": 3
   },
   "file_extension": ".py",
   "mimetype": "text/x-python",
   "name": "python",
   "nbconvert_exporter": "python",
   "pygments_lexer": "ipython3",
   "version": "3.9.13"
  }
 },
 "nbformat": 4,
 "nbformat_minor": 2
}

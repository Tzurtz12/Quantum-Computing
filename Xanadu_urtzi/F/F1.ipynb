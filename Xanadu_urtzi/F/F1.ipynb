{
 "cells": [
  {
   "cell_type": "code",
   "execution_count": 1,
   "metadata": {},
   "outputs": [],
   "source": [
    "#F1\n",
    "import pennylane as qml\n",
    "import numpy as np"
   ]
  },
  {
   "cell_type": "code",
   "execution_count": 2,
   "metadata": {},
   "outputs": [
    {
     "name": "stdout",
     "output_type": "stream",
     "text": [
      "[10.+0.j  2.-2.j  2.+0.j  2.+2.j]\n"
     ]
    }
   ],
   "source": [
    "def coefficients_to_values(coefficients):\n",
    "    \"\"\"Returns the value representation of a polynomial\n",
    "    \n",
    "    Args:\n",
    "        coefficients (array[complex]): a 1-D array of complex \n",
    "            coefficients of a polynomial with \n",
    "            index i representing the i-th degree coefficient\n",
    "\n",
    "    Returns: \n",
    "        array[complex]: the value representation of the \n",
    "            polynomial \n",
    "    \"\"\"\n",
    "    return np.fft.fft(coefficients)\n",
    "    pass\n",
    "\n",
    "A = [4, 3, 2, 1]\n",
    "print(coefficients_to_values(A))"
   ]
  },
  {
   "cell_type": "code",
   "execution_count": 3,
   "metadata": {},
   "outputs": [
    {
     "name": "stdout",
     "output_type": "stream",
     "text": [
      "[4.+0.j 3.+0.j 2.+0.j 1.+0.j]\n"
     ]
    }
   ],
   "source": [
    "def values_to_coefficients(values):\n",
    "    \"\"\"Returns the coefficient representation of a polynomial\n",
    "    \n",
    "    Args:\n",
    "        values (array[complex]): a 1-D complex array with \n",
    "            the value representation of a polynomial \n",
    "\n",
    "    Returns: \n",
    "        array[complex]: a 1-D complex array of coefficients\n",
    "    \"\"\"\n",
    "    \n",
    "    return np.fft.ifft(values)\n",
    "    pass\n",
    "\n",
    "\n",
    "A = [10.+0.j,  2.-2.j,  2.+0.j,  2.+2.j]\n",
    "print(values_to_coefficients(A))"
   ]
  },
  {
   "cell_type": "code",
   "execution_count": 4,
   "metadata": {},
   "outputs": [],
   "source": [
    "def nearest_power_of_2(x):\n",
    "    \"\"\"Given an integer, return the nearest power of 2. \n",
    "    \n",
    "    Args:\n",
    "        x (int): a positive integer\n",
    "\n",
    "    Returns: \n",
    "        int: the nearest power of 2 of x\n",
    "    \"\"\"\n",
    "    return 2**int(np.ceil(np.log2(x)))\n",
    "    \n",
    "    pass"
   ]
  },
  {
   "cell_type": "code",
   "execution_count": 5,
   "metadata": {},
   "outputs": [],
   "source": [
    "def fft_multiplication(poly_a, poly_b):\n",
    "    # Calculate the number of values required\n",
    "    x = len(poly_a) + len(poly_b) -1\n",
    "\n",
    "    # Figure out the nearest power of 2\n",
    "    m = nearest_power_of_2(x)\n",
    "\n",
    "    # Pad zeros to the polynomial\n",
    "    poly_a = np.pad(poly_a, pad_width = (0, m - len(poly_a)), mode = 'constant')\n",
    "    poly_b = np.pad(poly_b, pad_width = (0, m - len(poly_b)), mode = 'constant')\n",
    "\n",
    "    # Compute the value representation of each polynomial using DFT\n",
    "    val_a = coefficients_to_values(poly_a)\n",
    "    val_b = coefficients_to_values(poly_b)\n",
    "\n",
    "    # Compute the dot product of value representation vectors\n",
    "    val_c = np.multiply(val_a, val_b)\n",
    "    \n",
    "    # Convert back to coefficient representation using IDFT\n",
    "    poly_c = values_to_coefficients(val_c)\n",
    "    \n",
    "    return poly_c\n",
    "    pass"
   ]
  },
  {
   "cell_type": "code",
   "execution_count": null,
   "metadata": {},
   "outputs": [],
   "source": []
  }
 ],
 "metadata": {
  "kernelspec": {
   "display_name": "base",
   "language": "python",
   "name": "python3"
  },
  "language_info": {
   "codemirror_mode": {
    "name": "ipython",
    "version": 3
   },
   "file_extension": ".py",
   "mimetype": "text/x-python",
   "name": "python",
   "nbconvert_exporter": "python",
   "pygments_lexer": "ipython3",
   "version": "3.9.13"
  }
 },
 "nbformat": 4,
 "nbformat_minor": 2
}

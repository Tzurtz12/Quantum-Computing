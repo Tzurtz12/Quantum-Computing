{
 "cells": [
  {
   "cell_type": "code",
   "execution_count": 1,
   "metadata": {},
   "outputs": [],
   "source": [
    "#A3\n",
    "import pennylane as qml\n",
    "import numpy as np"
   ]
  },
  {
   "cell_type": "code",
   "execution_count": 2,
   "metadata": {},
   "outputs": [],
   "source": [
    "n_bits = 4\n",
    "dev = qml.device(\"default.qubit\", wires=n_bits)\n",
    "\n",
    "@qml.qnode(dev)\n",
    "def pair_circuit(x_tilde, combo):\n",
    "    \"\"\"Test a pair labelled by x_tilde for the presence of a solution.\n",
    "    \n",
    "    Args:\n",
    "        x_tilde (list[int]): An (n_bits - 1)-string labelling the pair to test.\n",
    "        combo (list[int]): A secret combination of n_bits 0s and 1s.\n",
    "        \n",
    "    Returns:\n",
    "        array[float]: Probabilities on the last qubit.\n",
    "    \"\"\"\n",
    "    for i in range(n_bits-1): # Initialize x_tilde part of state\n",
    "        if x_tilde[i] == 1:\n",
    "            qml.PauliX(wires=i)\n",
    "\n",
    "    ##################\n",
    "    # YOUR CODE HERE #\n",
    "    ##################\n",
    "    qml.Hadamard(wires=3)\n",
    "    qml.QubitUnitary(oracle_matrix(combo),wires=[0,1,2,3])\n",
    "    qml.Hadamard(wires=3)\n",
    "    \n",
    "    return qml.probs(wires=n_bits-1)"
   ]
  },
  {
   "cell_type": "code",
   "execution_count": 3,
   "metadata": {},
   "outputs": [
    {
     "ename": "NameError",
     "evalue": "name 'secret_combo' is not defined",
     "output_type": "error",
     "traceback": [
      "\u001b[1;31m---------------------------------------------------------------------------\u001b[0m",
      "\u001b[1;31mNameError\u001b[0m                                 Traceback (most recent call last)",
      "\u001b[1;32m~\\AppData\\Local\\Temp\\ipykernel_18340\\754042142.py\u001b[0m in \u001b[0;36m<module>\u001b[1;34m\u001b[0m\n\u001b[0;32m     26\u001b[0m \u001b[1;33m\u001b[0m\u001b[0m\n\u001b[0;32m     27\u001b[0m \u001b[0mtrials\u001b[0m \u001b[1;33m=\u001b[0m \u001b[1;36m500\u001b[0m\u001b[1;33m\u001b[0m\u001b[1;33m\u001b[0m\u001b[0m\n\u001b[1;32m---> 28\u001b[1;33m \u001b[0moutput\u001b[0m \u001b[1;33m=\u001b[0m \u001b[0mpair_lock_picker\u001b[0m\u001b[1;33m(\u001b[0m\u001b[0mtrials\u001b[0m\u001b[1;33m)\u001b[0m\u001b[1;33m\u001b[0m\u001b[1;33m\u001b[0m\u001b[0m\n\u001b[0m\u001b[0;32m     29\u001b[0m \u001b[1;33m\u001b[0m\u001b[0m\n\u001b[0;32m     30\u001b[0m \u001b[0mprint\u001b[0m\u001b[1;33m(\u001b[0m\u001b[1;34mf\"For {n_bits} bits, it takes\"\u001b[0m\u001b[1;33m,\u001b[0m \u001b[0moutput\u001b[0m\u001b[1;33m,\u001b[0m \u001b[1;34m\"pair tests on average.\"\u001b[0m\u001b[1;33m)\u001b[0m\u001b[1;33m\u001b[0m\u001b[1;33m\u001b[0m\u001b[0m\n",
      "\u001b[1;32m~\\AppData\\Local\\Temp\\ipykernel_18340\\754042142.py\u001b[0m in \u001b[0;36mpair_lock_picker\u001b[1;34m(trials)\u001b[0m\n\u001b[0;32m     14\u001b[0m \u001b[1;33m\u001b[0m\u001b[0m\n\u001b[0;32m     15\u001b[0m     \u001b[1;32mfor\u001b[0m \u001b[0mtrial\u001b[0m \u001b[1;32min\u001b[0m \u001b[0mrange\u001b[0m\u001b[1;33m(\u001b[0m\u001b[0mtrials\u001b[0m\u001b[1;33m)\u001b[0m\u001b[1;33m:\u001b[0m\u001b[1;33m\u001b[0m\u001b[1;33m\u001b[0m\u001b[0m\n\u001b[1;32m---> 16\u001b[1;33m         \u001b[0mcombo\u001b[0m \u001b[1;33m=\u001b[0m \u001b[0msecret_combo\u001b[0m\u001b[1;33m(\u001b[0m\u001b[0mn_bits\u001b[0m\u001b[1;33m)\u001b[0m \u001b[1;31m# Random list of bits\u001b[0m\u001b[1;33m\u001b[0m\u001b[1;33m\u001b[0m\u001b[0m\n\u001b[0m\u001b[0;32m     17\u001b[0m         \u001b[0mcounter\u001b[0m \u001b[1;33m=\u001b[0m \u001b[1;36m0\u001b[0m\u001b[1;33m\u001b[0m\u001b[1;33m\u001b[0m\u001b[0m\n\u001b[0;32m     18\u001b[0m         \u001b[1;32mfor\u001b[0m \u001b[0mx_tilde\u001b[0m \u001b[1;32min\u001b[0m \u001b[0mx_tildes\u001b[0m\u001b[1;33m:\u001b[0m\u001b[1;33m\u001b[0m\u001b[1;33m\u001b[0m\u001b[0m\n",
      "\u001b[1;31mNameError\u001b[0m: name 'secret_combo' is not defined"
     ]
    }
   ],
   "source": [
    "def pair_lock_picker(trials):\n",
    "    \"\"\"Create a combo, run pair_circuit until it succeeds, and tally success rate.\n",
    "    \n",
    "    Args:\n",
    "        trials (int): Number of times to test the lock picker.\n",
    "\n",
    "    Returns:\n",
    "        float: The average number of times the lock picker uses pair_circuit.\n",
    "    \"\"\"\n",
    "    x_tilde_strs = [np.binary_repr(n, n_bits-1) for n in range(2**(n_bits-1))]\n",
    "    x_tildes = [[int(s) for s in x_tilde_str] for x_tilde_str in x_tilde_strs] \n",
    "\n",
    "    test_numbers = []\n",
    "\n",
    "    for trial in range(trials):\n",
    "        combo = secret_combo(n_bits) # Random list of bits\n",
    "        counter = 0\n",
    "        for x_tilde in x_tildes:\n",
    "            counter += 1\n",
    "\n",
    "            if np.isclose(pair_circuit(x_tilde, combo)[1], 1):\n",
    "                break\n",
    "        \n",
    "        test_numbers.append(counter)\n",
    "    return sum(test_numbers)/trials\n",
    "\n",
    "trials = 500\n",
    "output = pair_lock_picker(trials)\n",
    "\n",
    "print(f\"For {n_bits} bits, it takes\", output, \"pair tests on average.\")"
   ]
  }
 ],
 "metadata": {
  "kernelspec": {
   "display_name": "base",
   "language": "python",
   "name": "python3"
  },
  "language_info": {
   "codemirror_mode": {
    "name": "ipython",
    "version": 3
   },
   "file_extension": ".py",
   "mimetype": "text/x-python",
   "name": "python",
   "nbconvert_exporter": "python",
   "pygments_lexer": "ipython3",
   "version": "3.9.13"
  }
 },
 "nbformat": 4,
 "nbformat_minor": 2
}

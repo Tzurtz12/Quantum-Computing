{
 "cells": [
  {
   "cell_type": "code",
   "execution_count": 1,
   "metadata": {},
   "outputs": [],
   "source": [
    "#A2\n",
    "import pennylane as qml\n",
    "import numpy as np"
   ]
  },
  {
   "cell_type": "code",
   "execution_count": 2,
   "metadata": {},
   "outputs": [],
   "source": [
    "def oracle_matrix(combo):\n",
    "    \"\"\"Return the oracle matrix for a secret combination.\n",
    "    \n",
    "    Args:\n",
    "        combo (list[int]): A list of bits representing a secret combination.\n",
    "         \n",
    "    Returns: \n",
    "        array[float]: The matrix representation of the oracle.\n",
    "    \"\"\"\n",
    "    index = np.ravel_multi_index(combo, [2]*len(combo)) # Index of solution\n",
    "    my_array = np.identity(2**len(combo)) # Create the identity matrix\n",
    "    my_array[index,index] = -1\n",
    "    ##################\n",
    "    # YOUR CODE HERE #\n",
    "    ##################\n",
    "\n",
    "    # MODIFY DIAGONAL ENTRY CORRESPONDING TO SOLUTION INDEX\n",
    "\n",
    "    return my_array"
   ]
  },
  {
   "cell_type": "code",
   "execution_count": 3,
   "metadata": {},
   "outputs": [],
   "source": [
    "n_bits = 4\n",
    "dev = qml.device(\"default.qubit\", wires=n_bits)\n",
    "\n",
    "@qml.qnode(dev)\n",
    "def oracle_circuit(combo):\n",
    "    \"\"\"Create a uniform superposition, apply the oracle, and return probabilities.\n",
    "    \n",
    "    Args:\n",
    "        combo (list[int]): A list of bits representing a secret combination.\n",
    "\n",
    "    Returns:\n",
    "        list[float]: The output probabilities.\n",
    "    \"\"\"\n",
    "    for wire in range(n_bits):\n",
    "        qml.Hadamard(wires=wire)\n",
    "    ##################\n",
    "    # YOUR CODE HERE #\n",
    "    ##################\n",
    "    qubits = list(range(n_bits))\n",
    "    qml.QubitUnitary(oracle_matrix(combo),wires=qubits)\n",
    "\n",
    "    return qml.probs(wires=range(n_bits))"
   ]
  }
 ],
 "metadata": {
  "kernelspec": {
   "display_name": "base",
   "language": "python",
   "name": "python3"
  },
  "language_info": {
   "codemirror_mode": {
    "name": "ipython",
    "version": 3
   },
   "file_extension": ".py",
   "mimetype": "text/x-python",
   "name": "python",
   "nbconvert_exporter": "python",
   "pygments_lexer": "ipython3",
   "version": "3.9.13"
  }
 },
 "nbformat": 4,
 "nbformat_minor": 2
}

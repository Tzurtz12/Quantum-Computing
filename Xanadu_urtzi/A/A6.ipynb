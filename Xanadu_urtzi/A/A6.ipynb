{
 "cells": [
  {
   "cell_type": "code",
   "execution_count": 1,
   "metadata": {},
   "outputs": [],
   "source": [
    "#A6\n",
    "import pennylane as qml\n",
    "import numpy as np"
   ]
  },
  {
   "cell_type": "code",
   "execution_count": 2,
   "metadata": {},
   "outputs": [],
   "source": [
    "n_bits = 4\n",
    "dev = qml.device(\"default.qubit\", wires=n_bits)\n",
    "\n",
    "@qml.qnode(dev)\n",
    "def multisol_hoh_circuit(combos):\n",
    "    \"\"\"A circuit which applies Hadamard, multi-solution oracle, then Hadamard.\n",
    "    \n",
    "    Args:\n",
    "        combos (list[list[int]]): A list of secret bit strings.\n",
    "\n",
    "    Returns: \n",
    "        array[float]: Probabilities for observing different outcomes.\n",
    "    \"\"\"\n",
    "\n",
    "    wires = list(range(n_bits))\n",
    "    qml.broadcast(qml.Hadamard,wires,'single')\n",
    "        \n",
    "    qml.QubitUnitary(multisol_oracle_matrix(combos),wires=[0,1,2,3])\n",
    "        \n",
    "    qml.broadcast(qml.Hadamard,wires,'single')\n",
    "\n",
    "    return qml.probs(wires=range(n_bits))"
   ]
  },
  {
   "cell_type": "code",
   "execution_count": 3,
   "metadata": {},
   "outputs": [],
   "source": [
    "def deutsch_jozsa(promise_var):\n",
    "    \"\"\"Implement the Deutsch-Jozsa algorithm and guess the promise variable.\n",
    "    \n",
    "    Args:\n",
    "        promise_var (int): Indicates whether the function is balanced (0) or constant (1).\n",
    "        \n",
    "    Returns: \n",
    "        int: A guess at the promise variable.\n",
    "    \"\"\"\n",
    "    if promise_var == 0:\n",
    "        how_many = 2**(n_bits - 1)\n",
    "    else:\n",
    "        how_many = np.random.choice([0, 2**n_bits]) # Choose all or nothing randomly\n",
    "    combos = multisol_combo(n_bits, how_many) # Generate random combinations\n",
    "\n",
    "    ##################\n",
    "    # YOUR CODE HERE #\n",
    "    ##################\n",
    "    if np.isclose(multisol_hoh_circuit(combos)[0],0):\n",
    "        return 0\n",
    "    else:\n",
    "        return 1\n",
    "    pass"
   ]
  }
 ],
 "metadata": {
  "kernelspec": {
   "display_name": "base",
   "language": "python",
   "name": "python3"
  },
  "language_info": {
   "codemirror_mode": {
    "name": "ipython",
    "version": 3
   },
   "file_extension": ".py",
   "mimetype": "text/x-python",
   "name": "python",
   "nbconvert_exporter": "python",
   "pygments_lexer": "ipython3",
   "version": "3.9.13"
  }
 },
 "nbformat": 4,
 "nbformat_minor": 2
}

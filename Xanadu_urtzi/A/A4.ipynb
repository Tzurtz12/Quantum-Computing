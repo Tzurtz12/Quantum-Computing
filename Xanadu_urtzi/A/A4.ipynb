{
 "cells": [
  {
   "cell_type": "code",
   "execution_count": 1,
   "metadata": {},
   "outputs": [],
   "source": [
    "#A4\n",
    "import pennylane as qml\n",
    "import numpy as np"
   ]
  },
  {
   "cell_type": "code",
   "execution_count": 2,
   "metadata": {},
   "outputs": [],
   "source": [
    "n_bits = 4\n",
    "dev = qml.device(\"default.qubit\", wires=n_bits)\n",
    "\n",
    "def multisol_oracle_matrix(combos):\n",
    "    \"\"\"Return the oracle matrix for a set of solutions.\n",
    "\n",
    "    Args:\n",
    "        combos (list[list[int]]): A list of secret bit strings.\n",
    "\n",
    "    Returns:\n",
    "        array[float]: The matrix representation of the oracle.\n",
    "    \"\"\"\n",
    "    array = np.identity(2 ** n_bits)\n",
    "    indices = [np.ravel_multi_index(combo, [2]*len(combo)) for combo in combos]\n",
    "    for i in range(len(combos)):\n",
    "        array[indices[i], indices[i]] = -1\n",
    "    return array\n",
    "    pass\n",
    "\n",
    "@qml.qnode(dev)\n",
    "def multisol_pair_circuit(x_tilde, combos):\n",
    "    \"\"\"Implements the circuit for testing a pair of combinations labelled by x_tilde.\n",
    "    \n",
    "    Args:\n",
    "        x_tilde (list[int]): An (n_bits - 1)-bit string labelling the pair to test.\n",
    "        combos (list[list[int]]): A list of secret bit strings.\n",
    "\n",
    "    Returns:\n",
    "        array[float]: Probabilities on the last qubit.\n",
    "    \"\"\"\n",
    "    for i in range(n_bits-1): # Initialize x_tilde part of state\n",
    "        if x_tilde[i] == 1:\n",
    "            qml.PauliX(wires=i)\n",
    "\n",
    "    qml.Hadamard(wires=3)\n",
    "    qml.QubitUnitary(multisol_oracle_matrix(combos),wires=[0,1,2,3])\n",
    "    qml.Hadamard(wires=3)\n",
    "    return qml.probs(wires=n_bits-1)"
   ]
  },
  {
   "cell_type": "code",
   "execution_count": 3,
   "metadata": {},
   "outputs": [],
   "source": [
    "def parity_checker(combos):\n",
    "    \"\"\"Use multisol_pair_circuit to determine the parity of a solution set.\n",
    "\n",
    "    Args:\n",
    "        combos (list[list[int]]): A list of secret combinations.\n",
    "\n",
    "    Returns: \n",
    "        int: The parity of the solution set.\n",
    "    \"\"\"\n",
    "    parity = 0\n",
    "    i = 0\n",
    "    x_tilde_strs = [np.binary_repr(n, n_bits-1) for n in range(2**(n_bits-1))]\n",
    "    x_tildes = [[int(s) for s in x_tilde_str] for x_tilde_str in x_tilde_strs]\n",
    "    for x_tilde in x_tildes:\n",
    "        if np.isclose(multisol_pair_circuit(x_tilde, combos)[1],1):\n",
    "            i +=1\n",
    "    parity = i % 2\n",
    "        ##################\n",
    "        # YOUR CODE HERE #\n",
    "        ##################\n",
    "\n",
    "        # IMPLEMENT PARITY COUNTING ALGORITHM\n",
    "\n",
    "    return parity\n"
   ]
  }
 ],
 "metadata": {
  "kernelspec": {
   "display_name": "base",
   "language": "python",
   "name": "python3"
  },
  "language_info": {
   "codemirror_mode": {
    "name": "ipython",
    "version": 3
   },
   "file_extension": ".py",
   "mimetype": "text/x-python",
   "name": "python",
   "nbconvert_exporter": "python",
   "pygments_lexer": "ipython3",
   "version": "3.9.13"
  }
 },
 "nbformat": 4,
 "nbformat_minor": 2
}

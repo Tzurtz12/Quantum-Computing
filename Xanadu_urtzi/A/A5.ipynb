{
 "cells": [
  {
   "cell_type": "code",
   "execution_count": 1,
   "metadata": {},
   "outputs": [],
   "source": [
    "#A5\n",
    "import pennylane as qml\n",
    "import numpy as np"
   ]
  },
  {
   "cell_type": "code",
   "execution_count": 2,
   "metadata": {},
   "outputs": [],
   "source": [
    "n_bits = 4\n",
    "dev = qml.device(\"default.qubit\", wires=n_bits)\n",
    "\n",
    "@qml.qnode(dev)\n",
    "def hoh_circuit(combo):\n",
    "    \"\"\"A circuit which applies Hadamard-oracle-Hadamard and returns probabilities.\n",
    "    \n",
    "    Args:\n",
    "        combo (list[int]): A list of bits representing a secret combination.\n",
    "\n",
    "    Returns:\n",
    "        list[float]: Measurement outcome probabilities.\n",
    "    \"\"\"\n",
    "\n",
    "    wires = [0,1,2,3]\n",
    "    qml.broadcast(qml.Hadamard,wires,'single')\n",
    "    \n",
    "    qml.QubitUnitary(oracle_matrix(combo),wires=[0,1,2,3])   \n",
    "    qml.broadcast(qml.Hadamard,wires,'single')\n",
    "    return qml.probs(wires=range(n_bits))"
   ]
  }
 ],
 "metadata": {
  "kernelspec": {
   "display_name": "base",
   "language": "python",
   "name": "python3"
  },
  "language_info": {
   "codemirror_mode": {
    "name": "ipython",
    "version": 3
   },
   "file_extension": ".py",
   "mimetype": "text/x-python",
   "name": "python",
   "nbconvert_exporter": "python",
   "pygments_lexer": "ipython3",
   "version": "3.9.13"
  }
 },
 "nbformat": 4,
 "nbformat_minor": 2
}

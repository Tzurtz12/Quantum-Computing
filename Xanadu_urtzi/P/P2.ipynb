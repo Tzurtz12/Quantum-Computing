{
 "cells": [
  {
   "cell_type": "code",
   "execution_count": 1,
   "metadata": {},
   "outputs": [],
   "source": [
    "#P2\n",
    "import pennylane as qml\n",
    "import numpy as np"
   ]
  },
  {
   "cell_type": "code",
   "execution_count": 2,
   "metadata": {},
   "outputs": [
    {
     "name": "stdout",
     "output_type": "stream",
     "text": [
      "[[1.        +0.j         0.        +0.j        ]\n",
      " [0.        +0.j         0.70710678+0.70710678j]]\n"
     ]
    },
    {
     "data": {
      "text/plain": [
       "array([[ 1.+0.j,  0.+0.j],\n",
       "       [ 0.+0.j, -1.+0.j]])"
      ]
     },
     "execution_count": 2,
     "metadata": {},
     "output_type": "execute_result"
    }
   ],
   "source": [
    "def U_power_2k(unitary, k):\n",
    "    \"\"\" Computes U at a power of 2k (U^2^k)\n",
    "    \n",
    "    Args: \n",
    "        unitary (array[complex]): A unitary matrix\n",
    "    \n",
    "    Returns: \n",
    "        array[complex]: the unitary raised to the power of 2^k\n",
    "    \"\"\"\n",
    "    return np.linalg.matrix_power(unitary,np.power(2,k)) \n",
    "    pass\n",
    "            \n",
    "\n",
    "# Try out a higher power of U\n",
    "U = qml.T.compute_matrix()\n",
    "print(U)\n",
    "\n",
    "U_power_2k(U, 2)"
   ]
  },
  {
   "cell_type": "code",
   "execution_count": 1,
   "metadata": {},
   "outputs": [],
   "source": [
    "estimation_wires = [0, 1, 2]\n",
    "target_wires = [3]\n",
    "\n",
    "def apply_controlled_powers_of_U(unitary):\n",
    "    \"\"\"A quantum function that applies the sequence of powers of U^2^k to\n",
    "    the estimation wires.\n",
    "    \n",
    "    Args: \n",
    "        unitary (array [complex]): A unitary matrix\n",
    "    \"\"\"\n",
    "\n",
    "    for i in range(len(estimation_wires)):\n",
    "\t    qml.ControlledQubitUnitary(U_power_2k(unitary,3 - (i+1)), control_wires=estimation_wires[i],wires=target_wires)\n",
    "    pass"
   ]
  },
  {
   "cell_type": "code",
   "execution_count": 4,
   "metadata": {},
   "outputs": [
    {
     "name": "stdout",
     "output_type": "stream",
     "text": [
      "[1.51544285e-32 1.00000000e+00 1.86828208e-31 9.26372303e-32\n",
      " 9.07320326e-32 9.32150093e-32 1.85684709e-31 3.94430453e-31]\n"
     ]
    }
   ],
   "source": [
    "dev = qml.device(\"default.qubit\", wires=4)\n",
    "\n",
    "estimation_wires = [0, 1, 2]\n",
    "target_wires = [3]\n",
    "\n",
    "def prepare_eigenvector():\n",
    "    qml.PauliX(wires=target_wires)\n",
    "\n",
    "@qml.qnode(dev)\n",
    "def qpe(unitary):\n",
    "    \"\"\" Estimate the phase for a given unitary.\n",
    "    \n",
    "    Args:\n",
    "        unitary (array[complex]): A unitary matrix.\n",
    "        \n",
    "    Returns:\n",
    "        array[float]: Measurement outcome probabilities on the estimation wires.\n",
    "    \"\"\"\n",
    "    prepare_eigenvector()\n",
    "    for wire in estimation_wires:\n",
    "        qml.Hadamard(wires=wire)\n",
    "    apply_controlled_powers_of_U(unitary)\n",
    "    qml.adjoint(qml.QFT)(wires=estimation_wires)\n",
    "\n",
    "    return qml.probs(wires=estimation_wires)\n",
    "    \n",
    "\n",
    "U = qml.T.compute_matrix()\n",
    "print(qpe(U))"
   ]
  },
  {
   "cell_type": "code",
   "execution_count": 5,
   "metadata": {},
   "outputs": [
    {
     "name": "stdout",
     "output_type": "stream",
     "text": [
      "0.1250000000000001\n"
     ]
    }
   ],
   "source": [
    "estimation_wires = [0, 1, 2]\n",
    "target_wires = [3]\n",
    "\n",
    "def estimate_phase(probs):\n",
    "    \"\"\"Estimate the value of a phase given measurement outcome probabilities\n",
    "    of the QPE routine.\n",
    "    \n",
    "    Args: \n",
    "        probs (array[float]): Probabilities on the estimation wires.\n",
    "    \n",
    "    Returns:\n",
    "        float: the estimated phase   \n",
    "    \"\"\"\n",
    "    fact = 2**-3\n",
    "    array1 = np.zeros(8)\n",
    "\n",
    "    for i in range(8):\n",
    "\t    array1[i]= i * fact\n",
    "    return float(sum(array1 * probs))\n",
    "\n",
    "U = qml.T.compute_matrix()\n",
    "\n",
    "probs = qpe(U)\n",
    "\n",
    "\n",
    "estimated_phase = estimate_phase(probs)\n",
    "print(estimated_phase)"
   ]
  },
  {
   "cell_type": "code",
   "execution_count": 6,
   "metadata": {},
   "outputs": [
    {
     "name": "stdout",
     "output_type": "stream",
     "text": [
      "0.1250000000000001\n"
     ]
    }
   ],
   "source": [
    "dev = qml.device(\"default.qubit\", wires=4)\n",
    "\n",
    "estimation_wires = [0, 1, 2]\n",
    "target_wires = [3]\n",
    "\n",
    "def prepare_eigenvector():\n",
    "    qml.PauliX(wires=target_wires)\n",
    "\n",
    "@qml.qnode(dev)\n",
    "def qpe(unitary):\n",
    "    \"\"\"Estimate the phase for a given unitary.\n",
    "    \n",
    "    Args:\n",
    "        unitary (array[complex]): A unitary matrix.\n",
    "        \n",
    "    Returns:\n",
    "        array[float]: Probabilities on the estimation wires.\n",
    "    \"\"\"\n",
    "    \n",
    "    prepare_eigenvector()\n",
    "    \n",
    "    qml.QuantumPhaseEstimation(unitary,target_wires,estimation_wires)\n",
    "    return qml.probs(estimation_wires)\n",
    "    pass\n",
    "\n",
    "\n",
    "U = qml.T.compute_matrix()\n",
    "probs = qpe(U)\n",
    "print(estimate_phase(probs))"
   ]
  }
 ],
 "metadata": {
  "kernelspec": {
   "display_name": "base",
   "language": "python",
   "name": "python3"
  },
  "language_info": {
   "codemirror_mode": {
    "name": "ipython",
    "version": 3
   },
   "file_extension": ".py",
   "mimetype": "text/x-python",
   "name": "python",
   "nbconvert_exporter": "python",
   "pygments_lexer": "ipython3",
   "version": "3.9.13"
  }
 },
 "nbformat": 4,
 "nbformat_minor": 2
}

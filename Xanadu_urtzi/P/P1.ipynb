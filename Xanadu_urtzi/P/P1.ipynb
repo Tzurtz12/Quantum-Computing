{
 "cells": [
  {
   "cell_type": "code",
   "execution_count": 1,
   "metadata": {},
   "outputs": [],
   "source": [
    "#P1\n",
    "import pennylane as qml\n",
    "import numpy as np"
   ]
  },
  {
   "cell_type": "code",
   "execution_count": 2,
   "metadata": {},
   "outputs": [
    {
     "name": "stdout",
     "output_type": "stream",
     "text": [
      "[1. 0.]\n"
     ]
    }
   ],
   "source": [
    "dev = qml.device(\"default.qubit\", wires=2)\n",
    "\n",
    "@qml.qnode(dev)\n",
    "def guess_the_unitary(unitary):\n",
    "    \"\"\"Given a unitary that performs a Z or a -Z operation\n",
    "    on a qubit, guess which one it is.\n",
    "    \n",
    "    Args: \n",
    "        U (array[complex]): A unitary matrix, guaranteed to be either Z or -Z.\n",
    "    \n",
    "    Returns:\n",
    "        array [int]:  Probabilities on  on the first qubit\n",
    "        using qml.probs()\n",
    "    \"\"\"\n",
    "    qml.Hadamard(wires=0)\n",
    "    qml.ControlledQubitUnitary(unitary, control_wires=0, wires=1)\n",
    "    qml.Hadamard(wires=0)\n",
    "    return qml.probs(wires=0)\n",
    "    pass\n",
    "\n",
    "# Z gate \n",
    "U = qml.PauliZ.compute_matrix() \n",
    "\n",
    "# -Z gate\n",
    "# U = (-1)*qml.PauliZ.compute_matrix()\n",
    "\n",
    "print(guess_the_unitary(U))"
   ]
  },
  {
   "cell_type": "code",
   "execution_count": 3,
   "metadata": {},
   "outputs": [
    {
     "name": "stdout",
     "output_type": "stream",
     "text": [
      "[1. 0.]\n",
      "[0. 1.]\n"
     ]
    }
   ],
   "source": [
    "dev = qml.device(\"default.qubit\", wires=2)\n",
    "        \n",
    "@qml.qnode(dev)\n",
    "def phase_kickback_X(eigenvector):\n",
    "    \"\"\" Given an eigenvector of X, \n",
    "    apply the phase kickback circuit to observe \n",
    "    the probabilities on the control wire\n",
    "    \n",
    "    Args: \n",
    "        eigenvector(String): A string \"plus\" or \"minus\" depicting \n",
    "        the eigenvector of X\n",
    "    \n",
    "    Returns:\n",
    "        array[int]: Measurement outcome on the first qubit using qml.probs()\n",
    "    \"\"\"\n",
    "    # Prepare |ψ>\n",
    "    if eigenvector != \"plus\":\n",
    "\t    qml.PauliX(wires=1)\n",
    "    qml.Hadamard(wires=1)  \n",
    "    \n",
    "    # Phase kickback\n",
    "    qml.Hadamard(wires=0)\n",
    "    qml.CNOT(wires=[0,1])\n",
    "    qml.Hadamard(wires=0)\n",
    " \n",
    "    return qml.probs(wires=[0])   \n",
    "\n",
    "print(phase_kickback_X(\"plus\"))\n",
    "print(phase_kickback_X(\"minus\"))\n",
    "\n",
    "# MODIFY EIGENVALUES BELOW \n",
    "eigenvalue_of_X_plus = 1\n",
    "eigenvalue_of_X_minus = -1"
   ]
  },
  {
   "cell_type": "code",
   "execution_count": null,
   "metadata": {},
   "outputs": [],
   "source": []
  }
 ],
 "metadata": {
  "kernelspec": {
   "display_name": "base",
   "language": "python",
   "name": "python3"
  },
  "language_info": {
   "codemirror_mode": {
    "name": "ipython",
    "version": 3
   },
   "file_extension": ".py",
   "mimetype": "text/x-python",
   "name": "python",
   "nbconvert_exporter": "python",
   "pygments_lexer": "ipython3",
   "version": "3.9.13"
  }
 },
 "nbformat": 4,
 "nbformat_minor": 2
}

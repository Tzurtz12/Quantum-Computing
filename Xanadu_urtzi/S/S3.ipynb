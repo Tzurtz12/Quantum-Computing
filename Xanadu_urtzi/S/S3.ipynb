{
 "cells": [
  {
   "cell_type": "code",
   "execution_count": 1,
   "metadata": {},
   "outputs": [],
   "source": [
    "#S3\n",
    "import pennylane as qml\n",
    "import numpy as np"
   ]
  },
  {
   "cell_type": "code",
   "execution_count": 2,
   "metadata": {},
   "outputs": [
    {
     "ename": "NameError",
     "evalue": "name 'get_unitary_matrix' is not defined",
     "output_type": "error",
     "traceback": [
      "\u001b[1;31m---------------------------------------------------------------------------\u001b[0m",
      "\u001b[1;31mNameError\u001b[0m                                 Traceback (most recent call last)",
      "\u001b[1;32m~\\AppData\\Local\\Temp\\ipykernel_19996\\127015154.py\u001b[0m in \u001b[0;36m<module>\u001b[1;34m\u001b[0m\n\u001b[0;32m      6\u001b[0m         \u001b[0mqml\u001b[0m\u001b[1;33m.\u001b[0m\u001b[0mPauliX\u001b[0m\u001b[1;33m(\u001b[0m\u001b[0mwires\u001b[0m\u001b[1;33m=\u001b[0m\u001b[0mi\u001b[0m\u001b[1;33m)\u001b[0m\u001b[1;33m\u001b[0m\u001b[1;33m\u001b[0m\u001b[0m\n\u001b[0;32m      7\u001b[0m \u001b[1;33m\u001b[0m\u001b[0m\n\u001b[1;32m----> 8\u001b[1;33m \u001b[0mmatrix\u001b[0m \u001b[1;33m=\u001b[0m \u001b[0mget_unitary_matrix\u001b[0m\u001b[1;33m(\u001b[0m\u001b[0mU\u001b[0m\u001b[1;33m,\u001b[0m \u001b[0mwire_order\u001b[0m\u001b[1;33m=\u001b[0m\u001b[0mrange\u001b[0m\u001b[1;33m(\u001b[0m\u001b[1;36m4\u001b[0m\u001b[1;33m)\u001b[0m\u001b[1;33m)\u001b[0m\u001b[1;33m(\u001b[0m\u001b[1;33m)\u001b[0m\u001b[1;33m\u001b[0m\u001b[1;33m\u001b[0m\u001b[0m\n\u001b[0m\u001b[0;32m      9\u001b[0m \u001b[1;33m\u001b[0m\u001b[0m\n\u001b[0;32m     10\u001b[0m \u001b[0mn_target_wires\u001b[0m \u001b[1;33m=\u001b[0m \u001b[1;36m4\u001b[0m\u001b[1;33m\u001b[0m\u001b[1;33m\u001b[0m\u001b[0m\n",
      "\u001b[1;31mNameError\u001b[0m: name 'get_unitary_matrix' is not defined"
     ]
    }
   ],
   "source": [
    "def U():\n",
    "    qml.SWAP(wires=[2,3])\n",
    "    qml.SWAP(wires=[1,2])\n",
    "    qml.SWAP(wires=[0,1])\n",
    "    for i in range(4):\n",
    "        qml.PauliX(wires=i)\n",
    "\n",
    "matrix = get_unitary_matrix(U, wire_order=range(4))()\n",
    "\n",
    "n_target_wires = 4\n",
    "target_wires = range(n_target_wires)\n",
    "n_estimation_wires = 3\n",
    "estimation_wires = range(4, 4 + n_estimation_wires)\n",
    "\n",
    "\n",
    "dev = qml.device(\"default.qubit\", shots=1, wires=n_target_wires+n_estimation_wires)\n",
    "\n",
    "@qml.qnode(dev)\n",
    "def circuit(matrix):\n",
    "    \"\"\"Return a sample after taking a shot at the estimation wires.\n",
    "    \n",
    "    Args:\n",
    "        matrix (array[complex]): matrix representation of U.\n",
    "\n",
    "    Returns:\n",
    "        array[float]: a sample after taking a shot at the estimation wires.\n",
    "    \"\"\"\n",
    "    \n",
    "\n",
    "    \n",
    "    # CREATE THE INITIAL STATE |0001> ON TARGET WIRES\n",
    "    qml.PauliX(wires=3)\n",
    "    qml.QuantumPhaseEstimation(matrix,target_wires,estimation_wires)\n",
    "    \n",
    "   \n",
    "    # USE THE SUBROUTINE QUANTUM PHASE ESTIMATION\n",
    "    \n",
    "    return qml.sample(wires=estimation_wires)\n",
    "\n",
    "def get_phase(matrix):\n",
    "    binary = \"\".join([str(b) for b in circuit(matrix)])\n",
    "    return int(binary, 2) / 2 ** n_estimation_wires\n",
    "\n",
    "for i in range(5):\n",
    "    print(circuit(matrix))\n",
    "    print(f\"shot {i+1}, phase:\",get_phase(matrix))"
   ]
  },
  {
   "cell_type": "code",
   "execution_count": 5,
   "metadata": {},
   "outputs": [
    {
     "ename": "NameError",
     "evalue": "name 'get_unitary_matrix' is not defined",
     "output_type": "error",
     "traceback": [
      "\u001b[1;31m---------------------------------------------------------------------------\u001b[0m",
      "\u001b[1;31mNameError\u001b[0m                                 Traceback (most recent call last)",
      "\u001b[1;32m~\\AppData\\Local\\Temp\\ipykernel_19996\\1828876032.py\u001b[0m in \u001b[0;36m<module>\u001b[1;34m\u001b[0m\n\u001b[0;32m      6\u001b[0m         \u001b[0mqml\u001b[0m\u001b[1;33m.\u001b[0m\u001b[0mPauliX\u001b[0m\u001b[1;33m(\u001b[0m\u001b[0mwires\u001b[0m\u001b[1;33m=\u001b[0m\u001b[0mi\u001b[0m\u001b[1;33m)\u001b[0m\u001b[1;33m\u001b[0m\u001b[1;33m\u001b[0m\u001b[0m\n\u001b[0;32m      7\u001b[0m \u001b[1;33m\u001b[0m\u001b[0m\n\u001b[1;32m----> 8\u001b[1;33m \u001b[0mmatrix\u001b[0m \u001b[1;33m=\u001b[0m \u001b[0mget_unitary_matrix\u001b[0m\u001b[1;33m(\u001b[0m\u001b[0mU\u001b[0m\u001b[1;33m,\u001b[0m \u001b[0mwire_order\u001b[0m\u001b[1;33m=\u001b[0m\u001b[0mrange\u001b[0m\u001b[1;33m(\u001b[0m\u001b[1;36m4\u001b[0m\u001b[1;33m)\u001b[0m\u001b[1;33m)\u001b[0m\u001b[1;33m(\u001b[0m\u001b[1;33m)\u001b[0m\u001b[1;33m\u001b[0m\u001b[1;33m\u001b[0m\u001b[0m\n\u001b[0m\u001b[0;32m      9\u001b[0m \u001b[1;33m\u001b[0m\u001b[0m\n\u001b[0;32m     10\u001b[0m \u001b[0mtarget_wires\u001b[0m \u001b[1;33m=\u001b[0m \u001b[0mrange\u001b[0m\u001b[1;33m(\u001b[0m\u001b[1;36m4\u001b[0m\u001b[1;33m)\u001b[0m\u001b[1;33m\u001b[0m\u001b[1;33m\u001b[0m\u001b[0m\n",
      "\u001b[1;31mNameError\u001b[0m: name 'get_unitary_matrix' is not defined"
     ]
    }
   ],
   "source": [
    "def U():\n",
    "    qml.SWAP(wires=[2,3])\n",
    "    qml.SWAP(wires=[1,2])\n",
    "    qml.SWAP(wires=[0,1])\n",
    "    for i in range(4):\n",
    "        qml.PauliX(wires=i)\n",
    "\n",
    "matrix = get_unitary_matrix(U, wire_order=range(4))()\n",
    "\n",
    "target_wires = range(4)\n",
    "n_estimation_wires = 3\n",
    "estimation_wires = range(4, 4 + n_estimation_wires)\n",
    "\n",
    "def get_period(matrix):\n",
    "    \"\"\"Return the period of the state using the already-defined \n",
    "    get_phase function.\n",
    "    \n",
    "    Args:\n",
    "        matrix (array[complex]): matrix associated with the operator U\n",
    "        \n",
    "    Returns:\n",
    "        int: Obtained period of the state.\n",
    "    \"\"\"\n",
    "    \n",
    "    shots = 10\n",
    "    \n",
    "    phase = get_phase(matrix)\n",
    "    fraction = Fraction(phase).limit_denominator(2 ** n_estimation_wires)\n",
    "    period = fraction.denominator\n",
    "    \n",
    "\n",
    "    \n",
    "\n",
    "print(get_period(matrix))"
   ]
  },
  {
   "cell_type": "code",
   "execution_count": 6,
   "metadata": {},
   "outputs": [
    {
     "ename": "NameError",
     "evalue": "name 'get_unitary_matrix' is not defined",
     "output_type": "error",
     "traceback": [
      "\u001b[1;31m---------------------------------------------------------------------------\u001b[0m",
      "\u001b[1;31mNameError\u001b[0m                                 Traceback (most recent call last)",
      "\u001b[1;32m~\\AppData\\Local\\Temp\\ipykernel_19996\\2743032476.py\u001b[0m in \u001b[0;36m<module>\u001b[1;34m\u001b[0m\n\u001b[0;32m      6\u001b[0m         \u001b[0mqml\u001b[0m\u001b[1;33m.\u001b[0m\u001b[0mPauliX\u001b[0m\u001b[1;33m(\u001b[0m\u001b[0mwires\u001b[0m\u001b[1;33m=\u001b[0m\u001b[0mi\u001b[0m\u001b[1;33m)\u001b[0m\u001b[1;33m\u001b[0m\u001b[1;33m\u001b[0m\u001b[0m\n\u001b[0;32m      7\u001b[0m \u001b[1;33m\u001b[0m\u001b[0m\n\u001b[1;32m----> 8\u001b[1;33m \u001b[0mmatrix\u001b[0m \u001b[1;33m=\u001b[0m \u001b[0mget_unitary_matrix\u001b[0m\u001b[1;33m(\u001b[0m\u001b[0mU\u001b[0m\u001b[1;33m,\u001b[0m \u001b[0mwire_order\u001b[0m\u001b[1;33m=\u001b[0m\u001b[0mrange\u001b[0m\u001b[1;33m(\u001b[0m\u001b[1;36m4\u001b[0m\u001b[1;33m)\u001b[0m\u001b[1;33m)\u001b[0m\u001b[1;33m(\u001b[0m\u001b[1;33m)\u001b[0m\u001b[1;33m\u001b[0m\u001b[1;33m\u001b[0m\u001b[0m\n\u001b[0m\u001b[0;32m      9\u001b[0m \u001b[1;33m\u001b[0m\u001b[0m\n\u001b[0;32m     10\u001b[0m \u001b[0mtarget_wires\u001b[0m \u001b[1;33m=\u001b[0m \u001b[0mrange\u001b[0m\u001b[1;33m(\u001b[0m\u001b[1;36m4\u001b[0m\u001b[1;33m)\u001b[0m\u001b[1;33m\u001b[0m\u001b[1;33m\u001b[0m\u001b[0m\n",
      "\u001b[1;31mNameError\u001b[0m: name 'get_unitary_matrix' is not defined"
     ]
    }
   ],
   "source": [
    "def U():\n",
    "    qml.SWAP(wires=[2,3])\n",
    "    qml.SWAP(wires=[1,2])\n",
    "    qml.SWAP(wires=[0,1])\n",
    "    for i in range(4):\n",
    "        qml.PauliX(wires=i)\n",
    "\n",
    "matrix = get_unitary_matrix(U, wire_order=range(4))()\n",
    "\n",
    "target_wires = range(4)\n",
    "n_estimation_wires = 3\n",
    "estimation_wires = range(4, 4 + n_estimation_wires)\n",
    "\n",
    "def get_period(matrix):\n",
    "    \"\"\"Return the period of the state using the already-defined \n",
    "    get_phase function.\n",
    "    \n",
    "    Args:\n",
    "        matrix (array[complex]): matrix associated with the operator U\n",
    "        \n",
    "    Returns:\n",
    "        int: Obtained period of the state.\n",
    "    \"\"\"\n",
    "    \n",
    "    shots = 10\n",
    "    list_period = []\n",
    "    for j in range(shots):\n",
    "        phase = get_phase(matrix)\n",
    "        fraction = Fraction(phase).limit_denominator(2 ** n_estimation_wires)\n",
    "        period = fraction.denominator\n",
    "        list_period.append(period)\n",
    "    per = 1\n",
    "    for period in list_period:\n",
    "        per *= period//np.gcd(per,period)\n",
    "    return per\n",
    "    \n",
    "\n",
    "    \n",
    "\n",
    "print(get_period(matrix))"
   ]
  },
  {
   "cell_type": "code",
   "execution_count": 7,
   "metadata": {},
   "outputs": [
    {
     "name": "stdout",
     "output_type": "stream",
     "text": [
      "[0. 1. 0. 0. 0. 0. 0. 0. 0. 0. 0. 0. 0. 0. 0. 0.]\n"
     ]
    }
   ],
   "source": [
    "def U():\n",
    "    qml.SWAP(wires=[2,3])\n",
    "    qml.SWAP(wires=[1,2])\n",
    "    qml.SWAP(wires=[0,1])\n",
    "    for i in range(4):\n",
    "        qml.PauliX(wires=i)\n",
    "\n",
    "dev = qml.device(\"default.qubit\", wires=4)\n",
    "\n",
    "@qml.qnode(dev)\n",
    "def circuit():\n",
    "    \"\"\"Apply U four times to |0001> to verify this is the period.\n",
    "    \n",
    "    Returns:\n",
    "        array[float]: probabilities of each basis state. \n",
    "    \"\"\"\n",
    "    \n",
    "    qml.PauliX(wires=3)\n",
    "    U()\n",
    "    U()\n",
    "    U()\n",
    "    U()\n",
    "    \n",
    "    \n",
    "    return qml.probs(wires=range(4))\n",
    "\n",
    "\n",
    "print(circuit())"
   ]
  }
 ],
 "metadata": {
  "kernelspec": {
   "display_name": "base",
   "language": "python",
   "name": "python3"
  },
  "language_info": {
   "codemirror_mode": {
    "name": "ipython",
    "version": 3
   },
   "file_extension": ".py",
   "mimetype": "text/x-python",
   "name": "python",
   "nbconvert_exporter": "python",
   "pygments_lexer": "ipython3",
   "version": "3.9.13"
  }
 },
 "nbformat": 4,
 "nbformat_minor": 2
}

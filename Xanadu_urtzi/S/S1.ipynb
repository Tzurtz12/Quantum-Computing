{
 "cells": [
  {
   "cell_type": "code",
   "execution_count": 1,
   "metadata": {},
   "outputs": [],
   "source": [
    "#S1\n",
    "import pennylane as qml\n",
    "import numpy as np"
   ]
  },
  {
   "cell_type": "code",
   "execution_count": 11,
   "metadata": {},
   "outputs": [
    {
     "name": "stdout",
     "output_type": "stream",
     "text": [
      "13 = 8 (3) is False\n",
      "13 = 7 (6) is True\n"
     ]
    }
   ],
   "source": [
    "def is_equivalent(a, b, m):\n",
    "    \"\"\"Return a boolean indicating whether the equivalence is satisfied.\n",
    "\n",
    "    Args:\n",
    "        a (int): First number to check the equivalence.\n",
    "        b (int): Second number to check the equivalence.\n",
    "        m (int): Modulus of the equivalence.\n",
    "    \n",
    "    Returns:\n",
    "        bool: True if a = b (m), False otherwise.\n",
    "    \"\"\"\n",
    "    \n",
    "    if (a-b)%m==0:\n",
    "        return True\n",
    "    return False\n",
    "  \n",
    "  \n",
    "  \n",
    "\n",
    "    \n",
    "print(f\"13 = 8 (3) is {is_equivalent(13, 8, 3)}\")\n",
    "print(f\"13 = 7 (6) is {is_equivalent(13, 7, 6)}\")"
   ]
  },
  {
   "cell_type": "code",
   "execution_count": 13,
   "metadata": {},
   "outputs": [
    {
     "name": "stdout",
     "output_type": "stream",
     "text": [
      "(5,15) False\n",
      "(7,15) True\n"
     ]
    }
   ],
   "source": [
    "def has_inverse(a, m):\n",
    "    \"\"\"Returns a boolean indicating whether a number has an inverse modulo m.\n",
    "    \n",
    "    Args:\n",
    "        a (int): Number to find the inverse modulus m.\n",
    "        m (int): Modulus of the equivalence.\n",
    "\n",
    "    Returns:\n",
    "        bool: True if c exists (ac = 1 (m)), False otherwise    \n",
    "    \"\"\"\n",
    "    \n",
    "    for j in range(m):\n",
    "        if a*j%m == 1:\n",
    "            return True\n",
    "    return False\n",
    "\n",
    "\n",
    "\n",
    "    \n",
    "print(\"(5,15)\", has_inverse(5,15))\n",
    "print(\"(7,15)\", has_inverse(7,15))\n"
   ]
  }
 ],
 "metadata": {
  "kernelspec": {
   "display_name": "base",
   "language": "python",
   "name": "python3"
  },
  "language_info": {
   "codemirror_mode": {
    "name": "ipython",
    "version": 3
   },
   "file_extension": ".py",
   "mimetype": "text/x-python",
   "name": "python",
   "nbconvert_exporter": "python",
   "pygments_lexer": "ipython3",
   "version": "3.9.13"
  }
 },
 "nbformat": 4,
 "nbformat_minor": 2
}

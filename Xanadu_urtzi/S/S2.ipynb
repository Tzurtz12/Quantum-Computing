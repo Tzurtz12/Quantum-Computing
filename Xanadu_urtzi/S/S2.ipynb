{
 "cells": [
  {
   "cell_type": "code",
   "execution_count": 1,
   "metadata": {},
   "outputs": [],
   "source": [
    "#S2\n",
    "import pennylane as qml\n",
    "import numpy as np"
   ]
  },
  {
   "cell_type": "code",
   "execution_count": 2,
   "metadata": {},
   "outputs": [
    {
     "name": "stdout",
     "output_type": "stream",
     "text": [
      "137\n"
     ]
    }
   ],
   "source": [
    "def nontrivial_square_root(m):\n",
    "    \"\"\"Return the first nontrivial square root modulo m.\n",
    "    \n",
    "    Args:\n",
    "        m (int): modulus for which want to find the nontrivial square root\n",
    "\n",
    "    Returns:\n",
    "        int: the first nontrivial square root of m\n",
    "    \"\"\"\n",
    "    \n",
    "    for j in range(2,m):\n",
    "        if np.power(j,2)%m==1:\n",
    "            return j\n",
    "    \n",
    "\n",
    "\n",
    "\n",
    "        \n",
    "print(nontrivial_square_root(391))"
   ]
  },
  {
   "cell_type": "code",
   "execution_count": 3,
   "metadata": {},
   "outputs": [
    {
     "name": "stdout",
     "output_type": "stream",
     "text": [
      "391 = 17 x 23\n"
     ]
    }
   ],
   "source": [
    " \n",
    "def factorization(N):\n",
    "    \n",
    "    \"\"\"Return the factors of N.\n",
    "    \n",
    "    Args:\n",
    "        N (int): number we want to factor.\n",
    "\n",
    "    Returns:\n",
    "        array[int]: [p,q] factors of N.\n",
    "    \"\"\"\n",
    "    x = nontrivial_square_root(N)\n",
    "    p = np.gcd(x-1,N)\n",
    "    q = np.gcd(x+1,N)\n",
    "    return p,q\n",
    "\n",
    "\n",
    "\n",
    "N = 391\n",
    "p, q = factorization(N)\n",
    "print(f\"{N} = {p} x {q}\")"
   ]
  },
  {
   "cell_type": "code",
   "execution_count": null,
   "metadata": {},
   "outputs": [],
   "source": []
  }
 ],
 "metadata": {
  "kernelspec": {
   "display_name": "base",
   "language": "python",
   "name": "python3"
  },
  "language_info": {
   "codemirror_mode": {
    "name": "ipython",
    "version": 3
   },
   "file_extension": ".py",
   "mimetype": "text/x-python",
   "name": "python",
   "nbconvert_exporter": "python",
   "pygments_lexer": "ipython3",
   "version": "3.9.13"
  }
 },
 "nbformat": 4,
 "nbformat_minor": 2
}

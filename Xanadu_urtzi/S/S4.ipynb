{
 "cells": [
  {
   "cell_type": "code",
   "execution_count": 2,
   "metadata": {},
   "outputs": [],
   "source": [
    "#S4\n",
    "import pennylane as qml\n",
    "import numpy as np"
   ]
  },
  {
   "cell_type": "code",
   "execution_count": 3,
   "metadata": {},
   "outputs": [
    {
     "name": "stdout",
     "output_type": "stream",
     "text": [
      "3 and 12 are coprime numbers:  False\n",
      "5 is odd:  True\n",
      "4 is not one mod 5:  False\n"
     ]
    }
   ],
   "source": [
    "def is_coprime(a, N):  \n",
    "    \"\"\"Determine if two numbers are coprime.\n",
    "        \n",
    "    Args:\n",
    "        a (int): First number to check if is coprime with the other.\n",
    "        N (int): Second number to check if is coprime with the other.\n",
    "        \n",
    "    Returns:\n",
    "        bool: True if they are coprime numbers, False otherwise.\n",
    "    \"\"\"\n",
    "    if np.gcd(a,N) == 1:\n",
    "        return True\n",
    "    return False\n",
    "    \n",
    "            \n",
    "    \n",
    "\n",
    "\n",
    "\n",
    "\n",
    "def is_odd(r):\n",
    "    \"\"\"Determine if a number is odd.   \n",
    "    \n",
    "    Args:\n",
    "        r (int): Integer to check if is an odd number.\n",
    "        \n",
    "    Returns:\n",
    "        bool: True if it is odd, False otherwise.\n",
    "    \"\"\"\n",
    "    \n",
    "    if r % 2 != 0:\n",
    "        return True\n",
    "    return False\n",
    "    \n",
    "    \n",
    "\n",
    "\n",
    "\n",
    "\n",
    "def is_not_one(x, N):\n",
    "    \"\"\"Determine if x is not +- 1 modulo N.\n",
    "    \n",
    "    Args:\n",
    "        N (int): Modulus of the equivalence.\n",
    "        x (int): Integer to check if it is different from +-1 modulo N.\n",
    "        \n",
    "    Returns:\n",
    "        bool: True if it is different, False otherwise.\n",
    "    \"\"\"\n",
    "    \n",
    "    if ((x-1)%N == 0) or ((x+1)%N == 0):\n",
    "        return False\n",
    "    return True\n",
    "    \n",
    "\n",
    "\n",
    "print(\"3 and 12 are coprime numbers: \", is_coprime(3,12))\n",
    "print(\"5 is odd: \", is_odd(5))\n",
    "print(\"4 is not one mod 5: \",is_not_one(4,5))"
   ]
  },
  {
   "cell_type": "code",
   "execution_count": 4,
   "metadata": {},
   "outputs": [
    {
     "ename": "NameError",
     "evalue": "name 'get_matrix_a_mod_N' is not defined",
     "output_type": "error",
     "traceback": [
      "\u001b[1;31m---------------------------------------------------------------------------\u001b[0m",
      "\u001b[1;31mNameError\u001b[0m                                 Traceback (most recent call last)",
      "\u001b[1;32m~\\AppData\\Local\\Temp\\ipykernel_5760\\2341910388.py\u001b[0m in \u001b[0;36m<module>\u001b[1;34m\u001b[0m\n\u001b[0;32m     26\u001b[0m \u001b[1;33m\u001b[0m\u001b[0m\n\u001b[0;32m     27\u001b[0m \u001b[1;33m\u001b[0m\u001b[0m\n\u001b[1;32m---> 28\u001b[1;33m \u001b[0mprint\u001b[0m\u001b[1;33m(\u001b[0m\u001b[0mshor\u001b[0m\u001b[1;33m(\u001b[0m\u001b[1;36m21\u001b[0m\u001b[1;33m)\u001b[0m\u001b[1;33m)\u001b[0m\u001b[1;33m\u001b[0m\u001b[1;33m\u001b[0m\u001b[0m\n\u001b[0m",
      "\u001b[1;32m~\\AppData\\Local\\Temp\\ipykernel_5760\\2341910388.py\u001b[0m in \u001b[0;36mshor\u001b[1;34m(N)\u001b[0m\n\u001b[0;32m     14\u001b[0m             \u001b[0mq\u001b[0m \u001b[1;33m=\u001b[0m \u001b[0mN\u001b[0m\u001b[1;33m/\u001b[0m\u001b[0mp\u001b[0m\u001b[1;33m\u001b[0m\u001b[1;33m\u001b[0m\u001b[0m\n\u001b[0;32m     15\u001b[0m             \u001b[1;32mreturn\u001b[0m \u001b[0mnp\u001b[0m\u001b[1;33m.\u001b[0m\u001b[0marray\u001b[0m\u001b[1;33m(\u001b[0m\u001b[1;33m[\u001b[0m\u001b[0mp\u001b[0m\u001b[1;33m,\u001b[0m\u001b[0mq\u001b[0m\u001b[1;33m]\u001b[0m\u001b[1;33m)\u001b[0m\u001b[1;33m\u001b[0m\u001b[1;33m\u001b[0m\u001b[0m\n\u001b[1;32m---> 16\u001b[1;33m         \u001b[0mU_Na\u001b[0m \u001b[1;33m=\u001b[0m \u001b[0mget_matrix_a_mod_N\u001b[0m\u001b[1;33m(\u001b[0m\u001b[0ma\u001b[0m\u001b[1;33m,\u001b[0m\u001b[0mN\u001b[0m\u001b[1;33m)\u001b[0m\u001b[1;33m\u001b[0m\u001b[1;33m\u001b[0m\u001b[0m\n\u001b[0m\u001b[0;32m     17\u001b[0m         \u001b[0mr\u001b[0m \u001b[1;33m=\u001b[0m \u001b[0mget_period\u001b[0m\u001b[1;33m(\u001b[0m\u001b[0mU_Na\u001b[0m\u001b[1;33m,\u001b[0m\u001b[0mN\u001b[0m\u001b[1;33m)\u001b[0m\u001b[1;33m\u001b[0m\u001b[1;33m\u001b[0m\u001b[0m\n\u001b[0;32m     18\u001b[0m         \u001b[1;32mif\u001b[0m \u001b[1;32mnot\u001b[0m \u001b[0mis_odd\u001b[0m\u001b[1;33m(\u001b[0m\u001b[0mr\u001b[0m\u001b[1;33m)\u001b[0m\u001b[1;33m:\u001b[0m\u001b[1;33m\u001b[0m\u001b[1;33m\u001b[0m\u001b[0m\n",
      "\u001b[1;31mNameError\u001b[0m: name 'get_matrix_a_mod_N' is not defined"
     ]
    }
   ],
   "source": [
    "def shor(N):\n",
    "    \"\"\"Return the factorization of a given integer.\n",
    "   \n",
    "    Args:\n",
    "       N (int): integer we want to factorize.\n",
    "    \n",
    "    Returns:\n",
    "        array[int]: [p,q], the prime factors of N.\n",
    "    \"\"\"\n",
    "    while True:    \n",
    "        a = np.random.randint(2,N-2)\n",
    "        if not is_coprime(a, N):\n",
    "            p = np.gcd(a,N)\n",
    "            q = N/p\n",
    "            return np.array([p,q])\n",
    "        U_Na = get_matrix_a_mod_N(a,N)\n",
    "        r = get_period(U_Na,N)\n",
    "        if not is_odd(r):\n",
    "            x = np.power(a,r/2)\n",
    "            if not is_not_one(x, N):\n",
    "                p = np.gcd(x-1,N)\n",
    "                q = np.gcd(x+1,N)\n",
    "                return np.array([p,q])\n",
    "    \n",
    "\n",
    "        \n",
    "\n",
    "print(shor(21))"
   ]
  }
 ],
 "metadata": {
  "kernelspec": {
   "display_name": "base",
   "language": "python",
   "name": "python3"
  },
  "language_info": {
   "codemirror_mode": {
    "name": "ipython",
    "version": 3
   },
   "file_extension": ".py",
   "mimetype": "text/x-python",
   "name": "python",
   "nbconvert_exporter": "python",
   "pygments_lexer": "ipython3",
   "version": "3.9.13"
  }
 },
 "nbformat": 4,
 "nbformat_minor": 2
}
